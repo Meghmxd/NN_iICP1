{
  "nbformat": 4,
  "nbformat_minor": 0,
  "metadata": {
    "colab": {
      "provenance": []
    },
    "kernelspec": {
      "name": "python3",
      "display_name": "Python 3"
    },
    "language_info": {
      "name": "python"
    }
  },
  "cells": [
    {
      "cell_type": "code",
      "execution_count": 24,
      "metadata": {
        "colab": {
          "base_uri": "https://localhost:8080/"
        },
        "id": "m1meJMhhDuqL",
        "outputId": "1e3e7c5b-d79e-4553-99f3-2e274a1dbf2e"
      },
      "outputs": [
        {
          "output_type": "stream",
          "name": "stdout",
          "text": [
            "Enter your first name: megh\n",
            "Enter your last name: anand\n",
            "Your full name is: megh anand\n"
          ]
        }
      ],
      "source": [
        "def fullname(first_name, last_name):\n",
        "    return first_name + \" \" + last_name\n",
        "first_name = input(\"Enter your first name: \")\n",
        "last_name = input(\"Enter your last name: \")\n",
        "full_name = fullname(first_name, last_name)\n",
        "print(\"Your full name is:\", full_name)\n"
      ]
    },
    {
      "cell_type": "code",
      "source": [
        "def string_alternative(input_string):\n",
        "    return input_string[::2]\n",
        "def main():\n",
        "    input_string = input(\"Enter the input string: \")\n",
        "    result = string_alternative(input_string)\n",
        "    print(\"Every other character in output string:\", result)\n",
        "if __name__ == \"__main__\":\n",
        "    main()\n",
        "\n",
        ""
      ],
      "metadata": {
        "colab": {
          "base_uri": "https://localhost:8080/"
        },
        "id": "nxm4E1cvFW0c",
        "outputId": "994b3362-328a-4314-af0d-f2c6c30f70dd"
      },
      "execution_count": 25,
      "outputs": [
        {
          "output_type": "stream",
          "name": "stdout",
          "text": [
            "Enter the input string: meghanand\n",
            "Every other character in output string: mgaad\n"
          ]
        }
      ]
    },
    {
      "cell_type": "code",
      "source": [
        "def count_word_occurrences(line, word_count):\n",
        "    words = line.split()\n",
        "    for word in words:\n",
        "        word_count[word] = word_count.get(word, 0) + 1\n",
        "\n",
        "def main():\n",
        "    input_file_name = \"input.txt\"\n",
        "    output_file_name = \"output.txt\"\n",
        "\n",
        "    try:\n",
        "        with open(input_file_name, 'r') as file:\n",
        "            lines = file.readlines()\n",
        "        word_count = {}\n",
        "        for line in lines:\n",
        "            count_word_occurrences(line, word_count)\n",
        "        output_lines = []\n",
        "        for word, count in word_count.items():\n",
        "            output_lines.append(f\"{word}: {count}\")\n",
        "        for output_line in output_lines:\n",
        "            print(output_line)\n",
        "        with open(output_file_name, 'w') as output_file:\n",
        "            output_file.write('\\n'.join(output_lines))\n",
        "        print(f\"\\nWord count results saved in {output_file_name}\")\n",
        "    except FileNotFoundError:\n",
        "        print(f\"Error: File '{input_file_name}' not found.\")\n",
        "if __name__ == \"__main__\":\n",
        "    main()\n",
        ""
      ],
      "metadata": {
        "colab": {
          "base_uri": "https://localhost:8080/"
        },
        "id": "YebjT6B9FdHe",
        "outputId": "31abbf91-7190-487f-9e97-0b1982558daf"
      },
      "execution_count": 26,
      "outputs": [
        {
          "output_type": "stream",
          "name": "stdout",
          "text": [
            "Python: 1\n",
            "Course: 2\n",
            "Deep: 1\n",
            "Learning: 1\n",
            "\n",
            "Word count results saved in output.txt\n"
          ]
        }
      ]
    },
    {
      "cell_type": "code",
      "source": [
        "def convert_inches_to_cm(heights_in_inches):\n",
        "    heights_in_cm = []\n",
        "    for height in heights_in_inches:\n",
        "        cm = round(height * 2.54, 2)\n",
        "        heights_in_cm.append(cm)\n",
        "    return heights_in_cm\n",
        "\n",
        "def main():\n",
        "    heights_in_inches = []\n",
        "    n = int(input(\"Enter the number of customers: \"))\n",
        "    for i in range(n):\n",
        "        height = float(input(f\"Enter height for customer {i+1} in inches: \"))\n",
        "        heights_in_inches.append(height)\n",
        "    heights_in_cm = convert_inches_to_cm(heights_in_inches)\n",
        "    print(\"Heights in centimeters:\", heights_in_cm)\n",
        "if __name__ == \"__main__\":\n",
        "    main()\n"
      ],
      "metadata": {
        "colab": {
          "base_uri": "https://localhost:8080/"
        },
        "id": "RMEwWqzyIOH1",
        "outputId": "7ff77e77-55a1-471b-9144-cececa98040e"
      },
      "execution_count": 27,
      "outputs": [
        {
          "output_type": "stream",
          "name": "stdout",
          "text": [
            "Enter the number of customers: 3\n",
            "Enter height for customer 1 in inches: 100\n",
            "Enter height for customer 2 in inches: 101\n",
            "Enter height for customer 3 in inches: 102\n",
            "Heights in centimeters: [254.0, 256.54, 259.08]\n"
          ]
        }
      ]
    },
    {
      "cell_type": "markdown",
      "source": [],
      "metadata": {
        "id": "cM1Pc73uE6u8"
      }
    }
  ]
}