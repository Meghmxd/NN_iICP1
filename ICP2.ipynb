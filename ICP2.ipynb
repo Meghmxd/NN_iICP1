{
  "nbformat": 4,
  "nbformat_minor": 0,
  "metadata": {
    "colab": {
      "provenance": []
    },
    "kernelspec": {
      "name": "python3",
      "display_name": "Python 3"
    },
    "language_info": {
      "name": "python"
    }
  },
  "cells": [
    {
      "cell_type": "code",
      "execution_count": 1,
      "metadata": {
        "colab": {
          "base_uri": "https://localhost:8080/"
        },
        "id": "kPo4DG_zc0Pk",
        "outputId": "30354a89-e2af-4d86-8041-ab2a0e86bb88"
      },
      "outputs": [
        {
          "output_type": "stream",
          "name": "stdout",
          "text": [
            "Average Salary for Employees: 45000.0\n",
            "Average Salary for Fulltime Employees: 28750.0\n"
          ]
        }
      ],
      "source": [
        "class Employee:\n",
        "    employee_count = 0\n",
        "\n",
        "    def __init__(self, name, family, salary, department):\n",
        "        self.name = name\n",
        "        self.family = family\n",
        "        self.salary = salary\n",
        "        self.department = department\n",
        "        Employee.employee_count += 1\n",
        "\n",
        "    def average_salary(self, total_salary):\n",
        "        return total_salary / Employee.employee_count\n",
        "\n",
        "class FulltimeEmployee(Employee):\n",
        "    pass\n",
        "\n",
        "employee1 = Employee(\"Nitish Harsha\", \"Somarapu\", 85000, \"Logistics\")\n",
        "employee2 = Employee(\"Honey\", \"Somarapu\", 95000, \"Finance\")\n",
        "\n",
        "fulltime_employee1 = FulltimeEmployee(\"Mani\", \"Somarapu\", 65000, \"IT\")\n",
        "fulltime_employee2 = FulltimeEmployee(\"Nitish\", \"Somarapu\", 50000, \"HR\")\n",
        "\n",
        "total_salary_employees = employee1.salary + employee2.salary\n",
        "average_salary_employees = employee1.average_salary(total_salary_employees)\n",
        "\n",
        "total_salary_fulltime_employees = fulltime_employee1.salary + fulltime_employee2.salary\n",
        "average_salary_fulltime_employees = fulltime_employee1.average_salary(total_salary_fulltime_employees)\n",
        "\n",
        "print(\"Average Salary for Employees:\", average_salary_employees)\n",
        "print(\"Average Salary for Fulltime Employees:\", average_salary_fulltime_employees)"
      ]
    },
    {
      "cell_type": "code",
      "source": [
        "\n",
        "import numpy as np\n",
        "random_vector = np.random.uniform(1, 20, 20)\n",
        "print(\"Original Random Vector:\\n\", random_vector)\n",
        "\n"
      ],
      "metadata": {
        "colab": {
          "base_uri": "https://localhost:8080/"
        },
        "id": "kr7vGCcdddga",
        "outputId": "97daa1c2-06bd-411d-cfa9-8d9cc0a4f665"
      },
      "execution_count": 2,
      "outputs": [
        {
          "output_type": "stream",
          "name": "stdout",
          "text": [
            "Original Random Vector:\n",
            " [19.00468002 18.14064836  9.80072193 16.81395338  2.81397501  7.49688788\n",
            " 16.90877417 13.32295942 18.91797973  6.25019126 14.96043173 10.94287918\n",
            " 11.96493619 11.02043684  6.88631134 18.56541515  5.65306657 14.94643338\n",
            " 18.8559866  15.73394807]\n"
          ]
        }
      ]
    },
    {
      "cell_type": "code",
      "source": [
        "reshaped_array = random_vector.reshape(4, 5)\n",
        "print(reshaped_array)"
      ],
      "metadata": {
        "colab": {
          "base_uri": "https://localhost:8080/"
        },
        "id": "iULdoNWcdkg3",
        "outputId": "37e00580-021e-463c-c500-057c20c44e20"
      },
      "execution_count": 3,
      "outputs": [
        {
          "output_type": "stream",
          "name": "stdout",
          "text": [
            "[[19.00468002 18.14064836  9.80072193 16.81395338  2.81397501]\n",
            " [ 7.49688788 16.90877417 13.32295942 18.91797973  6.25019126]\n",
            " [14.96043173 10.94287918 11.96493619 11.02043684  6.88631134]\n",
            " [18.56541515  5.65306657 14.94643338 18.8559866  15.73394807]]\n"
          ]
        }
      ]
    },
    {
      "cell_type": "code",
      "source": [
        "reshaped_array[np.arange(4), reshaped_array.argmax(axis=1)] = 0\n",
        "print(\"Reshaped Array:\\n\", reshaped_array)"
      ],
      "metadata": {
        "colab": {
          "base_uri": "https://localhost:8080/"
        },
        "id": "G0H-Bo6WdpOg",
        "outputId": "ff9ffc93-28e2-4d1a-e49e-a1b067fac98a"
      },
      "execution_count": 4,
      "outputs": [
        {
          "output_type": "stream",
          "name": "stdout",
          "text": [
            "Reshaped Array:\n",
            " [[ 0.         18.14064836  9.80072193 16.81395338  2.81397501]\n",
            " [ 7.49688788 16.90877417 13.32295942  0.          6.25019126]\n",
            " [ 0.         10.94287918 11.96493619 11.02043684  6.88631134]\n",
            " [18.56541515  5.65306657 14.94643338  0.         15.73394807]]\n"
          ]
        }
      ]
    }
  ]
}